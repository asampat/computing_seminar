{
 "cells": [
  {
   "attachments": {
    "image.png": {
     "image/png": "[encoded data removed]"
    }
   },
   "cell_type": "markdown",
   "metadata": {},
   "source": [
    "# Sudoku Solver \n",
    "\n",
    "Reference: Notes from CS 524 taught by Prof. Laurent Lessard (University of Wisconsin-Madison)\n",
    "\n",
    "![image.png](attachment:image.png)\n",
    "\n",
    "Your task is to fill in the grid in such a way that:\n",
    "\n",
    "- Each row uses each of the numbers 1,2,...,9 exactly once\n",
    "- Each column uses each of the numbers 1,2,...,9 exactly once\n",
    "- Each smaller 3x3 square with a thick border uses each of the numbers 1,2,...,9 exactly once"
   ]
  },
  {
   "cell_type": "code",
   "execution_count": 4,
   "metadata": {},
   "outputs": [],
   "source": [
    "using JuMP"
   ]
  },
  {
   "cell_type": "code",
   "execution_count": 5,
   "metadata": {},
   "outputs": [],
   "source": [
    "using Cbc"
   ]
  },
  {
   "cell_type": "code",
   "execution_count": 4,
   "metadata": {},
   "outputs": [],
   "source": [
    "# Given data. Unknown entries are specified as \"0\"\n",
    "given = [\n",
    "  0 0 0  0 0 1  0 0 0\n",
    "  2 7 0  0 9 0  5 0 0\n",
    "  0 8 0  0 0 5  0 0 3\n",
    "\n",
    "  0 0 8  0 3 0  0 2 0\n",
    "  0 5 0  1 0 2  0 9 0\n",
    "  0 1 0  0 5 0  7 0 0\n",
    "\n",
    "  5 0 0  6 0 0  0 3 0\n",
    "  0 0 9  0 1 0  0 6 2\n",
    "  0 0 0  2 0 0  0 0 0\n",
    "];"
   ]
  },
  {
   "cell_type": "code",
   "execution_count": 5,
   "metadata": {},
   "outputs": [],
   "source": [
    "function printSudoku(arr)\n",
    "  u = 0\n",
    "  println(\"+-------+-------+-------+\")\n",
    "  for p in 1:3:9\n",
    "    for q in 0:2\n",
    "      print(\"| \")\n",
    "      for r in 1:3:9\n",
    "        for s in 0:2\n",
    "          u = round(Int, arr[p+q,r+s])\n",
    "          u == 0 ? print(\" \") : print(u)\n",
    "          print(\" \")\n",
    "        end\n",
    "        print(\"| \")\n",
    "      end\n",
    "      println()\n",
    "    end\n",
    "    println(\"+-------+-------+-------+\")\n",
    "  end\n",
    "end\n",
    ";"
   ]
  },
  {
   "cell_type": "code",
   "execution_count": 6,
   "metadata": {},
   "outputs": [
    {
     "name": "stdout",
     "output_type": "stream",
     "text": [
      "  0.040543 seconds (3.35 k allocations: 476.839 KiB)\n",
      "The given problem is: \n",
      "+-------+-------+-------+\n",
      "|       |     1 |       | \n",
      "| 2 7   |   9   | 5     | \n",
      "|   8   |     5 |     3 | \n",
      "+-------+-------+-------+\n",
      "|     8 |   3   |   2   | \n",
      "|   5   | 1   2 |   9   | \n",
      "|   1   |   5   | 7     | \n",
      "+-------+-------+-------+\n",
      "| 5     | 6     |   3   | \n",
      "|     9 |   1   |   6 2 | \n",
      "|       | 2     |       | \n",
      "+-------+-------+-------+\n",
      "The solution is: \n",
      "+-------+-------+-------+\n",
      "| 4 6 5 | 3 7 1 | 2 8 9 | \n",
      "| 2 7 3 | 8 9 6 | 5 1 4 | \n",
      "| 9 8 1 | 4 2 5 | 6 7 3 | \n",
      "+-------+-------+-------+\n",
      "| 6 9 8 | 7 3 4 | 1 2 5 | \n",
      "| 7 5 4 | 1 6 2 | 3 9 8 | \n",
      "| 3 1 2 | 9 5 8 | 7 4 6 | \n",
      "+-------+-------+-------+\n",
      "| 5 2 7 | 6 4 9 | 8 3 1 | \n",
      "| 8 3 9 | 5 1 7 | 4 6 2 | \n",
      "| 1 4 6 | 2 8 3 | 9 5 7 | \n",
      "+-------+-------+-------+\n"
     ]
    }
   ],
   "source": [
    "using JuMP, Cbc\n",
    "\n",
    "m = Model(solver = CbcSolver())\n",
    "\n",
    "@variable(m, x[1:9,1:9,1:9], Bin)\n",
    "\n",
    "# exactly one number per cell\n",
    "for i in 1:9\n",
    "  for j in 1:9\n",
    "    @constraint(m, sum(x[i,j,k] for k in 1:9) == 1)\n",
    "  end\n",
    "end\n",
    "\n",
    "# exactly one of each number per row\n",
    "for i in 1:9\n",
    "  for k in 1:9\n",
    "    @constraint(m, sum(x[i,j,k] for j in 1:9) == 1)\n",
    "  end\n",
    "end\n",
    "\n",
    "# exactly one of each number per column\n",
    "for j in 1:9\n",
    "  for k in 1:9\n",
    "    @constraint(m, sum(x[i,j,k] for i in 1:9) == 1)\n",
    "  end\n",
    "end\n",
    "\n",
    "# exactly one of each number per 3x3 block\n",
    "for k in 1:9\n",
    "  for p in 0:3:6\n",
    "    for q in 0:3:6\n",
    "      @constraint(m, sum(x[p+i,q+j,k] for i in 1:3, j in 1:3) == 1)\n",
    "    end\n",
    "  end\n",
    "end\n",
    "\n",
    "# initial conditions\n",
    "for i in 1:9\n",
    "  for j in 1:9\n",
    "    if given[i,j] != 0\n",
    "      @constraint(m, x[i,j,given[i,j]] == 1)\n",
    "    end\n",
    "  end\n",
    "end\n",
    "\n",
    "@time(status = solve(m))\n",
    "\n",
    "if status != :Optimal\n",
    "    println(status)\n",
    "else\n",
    "    # generate solution grid and display the solution\n",
    "    solution = zeros(9,9)\n",
    "    for i in 1:9\n",
    "      for j in 1:9\n",
    "        for k in 1:9\n",
    "          if getvalue(x[i,j,k]) == 1\n",
    "            solution[i,j] = k\n",
    "            continue\n",
    "          end\n",
    "        end\n",
    "      end\n",
    "    end\n",
    "\n",
    "    println(\"The given problem is: \")\n",
    "    printSudoku(given)\n",
    "\n",
    "    println(\"The solution is: \")\n",
    "    printSudoku(solution)\n",
    "end"
   ]
  },
  {
   "cell_type": "code",
   "execution_count": null,
   "metadata": {},
   "outputs": [],
   "source": []
  }
 ],
 "metadata": {
  "kernelspec": {
   "display_name": "Julia 0.6.4",
   "language": "julia",
   "name": "julia-0.6"
  },
  "language_info": {
   "file_extension": ".jl",
   "mimetype": "application/julia",
   "name": "julia",
   "version": "0.6.4"
  }
 },
 "nbformat": 4,
 "nbformat_minor": 2
}
